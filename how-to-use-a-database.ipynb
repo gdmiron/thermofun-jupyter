{
 "cells": [
  {
   "cell_type": "markdown",
   "metadata": {},
   "source": [
    "![ThermoFun logo](common/fun_long_logo-01.png)\n",
    "\n",
    "**ThermoFun** is an open-source client that delivers thermodynamic properties of substances and reactions at the temperature and pressure of interest.\n",
    "\n",
    "## How to use a Database class"
   ]
  },
  {
   "cell_type": "markdown",
   "metadata": {},
   "source": [
    "Import ThermoFun python package. In future release this will be simplified to `import thermofun as fun` "
   ]
  },
  {
   "cell_type": "code",
   "execution_count": 1,
   "metadata": {},
   "outputs": [],
   "source": [
    "import thermofun.PyThermoFun as fun"
   ]
  },
  {
   "cell_type": "markdown",
   "metadata": {},
   "source": [
    "ThermoFun is initialized with a ThermoDataSet. A ThermoDataSet is a collection of records of substances and/or reactions also known in the (geo)chemical community as a thermodynamic database, e.g. SUPCRT98, PSI-Nagra, CEMDATA18. In this example we use a provided database file ```aq17-thermofun.json``` containing several substances (aqueous species, gases, and minerals).\n",
    "\n",
    "Load a database from file. The available databases for testing are found in the `databases/` folder. "
   ]
  },
  {
   "cell_type": "code",
   "execution_count": 2,
   "metadata": {},
   "outputs": [],
   "source": [
    "database = fun.Database('databases/aq17-gem-lma-thermofun.json')"
   ]
  },
  {
   "cell_type": "markdown",
   "metadata": {},
   "source": [
    "`database` offers several functionalities to retrieve information on what exactly it contains. For example one can get the map  of substances. In python `substances` is a dictionary (symbol : substance).\n",
    "\n",
    "![functions database](images/tab-functions-database.png)"
   ]
  },
  {
   "cell_type": "code",
   "execution_count": 3,
   "metadata": {},
   "outputs": [],
   "source": [
    "substances = database.mapSubstances()"
   ]
  },
  {
   "cell_type": "markdown",
   "metadata": {},
   "source": [
    "To print all the available substance records (symbols) use the print function of python."
   ]
  },
  {
   "cell_type": "code",
   "execution_count": 4,
   "metadata": {},
   "outputs": [
    {
     "name": "stdout",
     "output_type": "stream",
     "text": [
      "dict_keys(['Akermanite', 'Al(OH)2+', 'Al(OH)3@', 'Al(OH)4-', 'Al+3', 'AlH3SiO4+2', 'AlOH+2', 'Albite', 'Albite high', 'Amesite-Mg', 'Analcite', 'Andalusite', 'Anorthite', 'Anthophyll-Mg', 'Antigorite', 'Aragonite', 'Boehmite', 'Brucite', 'CH4', 'CH4@', 'CO', 'CO2', 'CO2@', 'CO3-2', 'CO@', 'Ca+2', 'CaCO3@', 'CaCl+', 'CaCl2@', 'CaHCO3+', 'CaHSiO3+', 'CaOH+', 'CaSiO3@', 'Calcite', 'Carpholite-Mg', 'Cceladonite-Mg', 'Celadonite-Mg', 'Chlorite-Mg', 'Chloritoid-Mg', 'Chrysotile', 'Cl-', 'Clinochlore', 'Clinohumite', 'Clinozoisite', 'Coesite', 'Cordierite-Mg', 'Corundum', 'Cristobalite', 'Cummingtonite', 'Diamond', 'Diaspore', 'Diopside', 'Dolomite', 'Dolomite-od', 'Eastonite', 'Edenite-Mg', 'Enstatite', 'Forsterite', 'Gedrite-Mg', 'Gehlenite', 'Gibbsite', 'Glaucophane-Mg', 'Graphite', 'Grossular', 'H+', 'H2', 'H2@', 'H2O', 'H2O@', 'H4SiO4@', 'HCO3-', 'HCl@', 'HSiO3-', 'Halite', 'Hcordierite-Mg', 'Heulandite', 'Jadeite', 'K+', 'KAlO2@', 'KCO3-', 'KCl@', 'KHCO3@', 'KOH@', 'Kalsilite', 'Kaolinite', 'Kyanite', 'Larnite', 'Laumontite', 'Lawsonite', 'Leucite', 'Lime', 'Magnesite', 'Margarite', 'Meionite-Ca', 'Meionite-Na', 'Merwinite', 'Mg+2', 'MgCO3@', 'MgCl+', 'MgCl2@', 'MgHCO3+', 'MgHSiO3+', 'MgOH+', 'MgSiO3@', 'Microcline', 'Mizzonite', 'Monticellite', 'Muscovite', 'Na+', 'NaAl(OH)4@', 'NaCO3-', 'NaCl@', 'NaHCO3@', 'NaHSiO3@', 'NaOH@', 'Nceladonite-Mg', 'Nepheline', 'O2', 'O2@', 'OH-', 'Omphacite-Mg', 'Osumilite1-Mg', 'Osumilite2-Mg', 'Paragonite', 'Pargasite-Mg', 'Periclase', 'Phlogopite', 'Phlogopite-Na', 'Portlandite', 'Prehnite', 'Pseudowoll', 'Pumpellyite-Mg', 'Pyrope', 'Pyrophyllite', 'Quartz', 'Rankinite', 'Sanidine', 'Sapphirine4-Mg', 'Sapphirine5-Mg', 'SiO2@', 'Sillimanite', 'Spinel', 'Spurrite', 'Staurolite-Mg', 'Stilbite', 'Stilpnomelane-Mg', 'Stishovite', 'Sudoite-Mg', 'Sylvite', 'Talc-Mg', 'Tilleyite', 'Topaz-OH', 'Tremolite-Mg', 'Tridymite', 'Tschermak-Ca', 'Tschermak-Mg', 'Tschermakite-Mg', 'Ttalc-Mg', 'Vesuvianite', 'Wairakite', 'Wollastonite', 'Zoisite'])\n"
     ]
    }
   ],
   "source": [
    "print(substances.keys())"
   ]
  },
  {
   "cell_type": "markdown",
   "metadata": {},
   "source": [
    "To retrieve one substance use the symbol of the substance as follows: "
   ]
  },
  {
   "cell_type": "code",
   "execution_count": 5,
   "metadata": {},
   "outputs": [],
   "source": [
    "Corundum = substances['Corundum']"
   ]
  },
  {
   "cell_type": "markdown",
   "metadata": {},
   "source": [
    "`Corundum` contains several functions to retrieve and modify data of this substance.\n",
    "\n",
    "![functions substance](images/tab-functions-substance.png)"
   ]
  },
  {
   "cell_type": "code",
   "execution_count": 6,
   "metadata": {},
   "outputs": [
    {
     "data": {
      "text/plain": [
       "'Al2O3'"
      ]
     },
     "execution_count": 6,
     "metadata": {},
     "output_type": "execute_result"
    }
   ],
   "source": [
    "Corundum.formula()"
   ]
  },
  {
   "cell_type": "markdown",
   "metadata": {},
   "source": [
    "> **Warning:** All changes to the substance will also be present in the database. For example:"
   ]
  },
  {
   "cell_type": "code",
   "execution_count": 7,
   "metadata": {},
   "outputs": [],
   "source": [
    "Corundum.setFormula('O3Al2')"
   ]
  },
  {
   "cell_type": "code",
   "execution_count": 8,
   "metadata": {},
   "outputs": [
    {
     "data": {
      "text/plain": [
       "'O3Al2'"
      ]
     },
     "execution_count": 8,
     "metadata": {},
     "output_type": "execute_result"
    }
   ],
   "source": [
    "Corundum2 = substances['Corundum']\n",
    "Corundum2.formula()"
   ]
  }
 ],
 "metadata": {
  "file_extension": ".py",
  "kernelspec": {
   "display_name": "Python 3",
   "language": "python",
   "name": "python3"
  },
  "language_info": {
   "codemirror_mode": {
    "name": "ipython",
    "version": 3
   },
   "file_extension": ".py",
   "mimetype": "text/x-python",
   "name": "python",
   "nbconvert_exporter": "python",
   "pygments_lexer": "ipython3",
   "version": "3.7.4"
  },
  "mimetype": "text/x-python",
  "name": "python",
  "npconvert_exporter": "python",
  "pygments_lexer": "ipython3",
  "version": 3
 },
 "nbformat": 4,
 "nbformat_minor": 4
}
