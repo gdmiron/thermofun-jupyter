{
 "cells": [
  {
   "cell_type": "markdown",
   "metadata": {},
   "source": [
    "Import ThermoFun python package"
   ]
  },
  {
   "cell_type": "code",
   "execution_count": 2,
   "metadata": {},
   "outputs": [],
   "source": [
    "import thermofun as fun"
   ]
  },
  {
   "cell_type": "markdown",
   "metadata": {},
   "source": [
    "Create a `ThermoEngine` object using a ThermoFun database file."
   ]
  },
  {
   "cell_type": "code",
   "execution_count": 5,
   "metadata": {},
   "outputs": [],
   "source": [
    "database = fun.Database('databases/slop98-thermofun.json')\n",
    "engine = fun.ThermoEngine(database)"
   ]
  },
  {
   "cell_type": "markdown",
   "metadata": {},
   "source": [
    "See [how_to_work_with_a_database](how-to-work-with-a-database.ipynb) notebook for details on the `Database` class."
   ]
  },
  {
   "cell_type": "markdown",
   "metadata": {},
   "source": [
    "The `engine` object provides direct access to the functions for calculating thermodynamic properties. **The input and output parameters are in SI units.**"
   ]
  },
  {
   "cell_type": "code",
   "execution_count": 6,
   "metadata": {},
   "outputs": [],
   "source": [
    "T = 473\n",
    "P = 2000e5\n",
    "properties = engine.thermoPropertiesSubstance(T, P, \"Ca+2\")"
   ]
  },
  {
   "cell_type": "markdown",
   "metadata": {},
   "source": [
    "`properties` provides access to the calculated standard molar properties (e.g. gibbs_energy, enthalpy, entropy, heat_capacity_cp, volume). The available options can be displayed by writing `properties.` and pressing the Tab key. \n",
    "\n",
    "![image](images/tab-properties-substance.png)"
   ]
  },
  {
   "cell_type": "code",
   "execution_count": 7,
   "metadata": {},
   "outputs": [],
   "source": [
    "gibbs_energy = properties.gibbs_energy"
   ]
  },
  {
   "cell_type": "markdown",
   "metadata": {},
   "source": [
    "Each property is a complex variable that contains the calculated value `.val`, the derivative with temperature `.ddt`, the derivative with pressure `.ddp`, propagated error `.err` (provided the input parameters had error assigned to them). "
   ]
  },
  {
   "cell_type": "code",
   "execution_count": 8,
   "metadata": {},
   "outputs": [],
   "source": [
    "gibbs_energy_value = gibbs_energy.val"
   ]
  },
  {
   "cell_type": "code",
   "execution_count": 9,
   "metadata": {},
   "outputs": [
    {
     "name": "stdout",
     "output_type": "stream",
     "text": [
      "-545270.2878298083\n"
     ]
    }
   ],
   "source": [
    "print(gibbs_energy_value)"
   ]
  },
  {
   "cell_type": "code",
   "execution_count": 10,
   "metadata": {},
   "outputs": [
    {
     "name": "stdout",
     "output_type": "stream",
     "text": [
      "Entropy -61.404644379331856 is - 61.40464437933184\n"
     ]
    }
   ],
   "source": [
    "print('Entropy', properties.entropy.val, 'is -', gibbs_energy.ddt)"
   ]
  },
  {
   "cell_type": "markdown",
   "metadata": {},
   "source": [
    "The user is free to write any automatic script to call `engine` for doing calculations for different substances, reactions, at different temperatures and pressures. ThermoFun provides a built-in class for doing multiple calculations in just a few lines. `ThermoBatch` [how_to_do_batch_calculations](how-to-do-batch-calculations.ipynb)"
   ]
  }
 ],
 "metadata": {
  "kernelspec": {
   "display_name": "Python 3",
   "language": "python",
   "name": "python3"
  },
  "language_info": {
   "codemirror_mode": {
    "name": "ipython",
    "version": 3
   },
   "file_extension": ".py",
   "mimetype": "text/x-python",
   "name": "python",
   "nbconvert_exporter": "python",
   "pygments_lexer": "ipython3",
   "version": "3.7.4"
  }
 },
 "nbformat": 4,
 "nbformat_minor": 4
}
