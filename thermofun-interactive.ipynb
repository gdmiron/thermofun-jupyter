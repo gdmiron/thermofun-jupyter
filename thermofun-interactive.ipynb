{
 "cells": [
  {
   "cell_type": "markdown",
   "metadata": {},
   "source": [
    "<img style=\"float: center; height: 28%; width: 25%;\" src=\"common/fun_long_logo-01.png\">"
   ]
  },
  {
   "cell_type": "markdown",
   "metadata": {},
   "source": [
    "### Report issues <a href=\"https://github.com/thermomod/thermofun-jupyter/issues\" target=\"_blank\">here.</a>"
   ]
  },
  {
   "cell_type": "code",
   "execution_count": null,
   "metadata": {},
   "outputs": [],
   "source": [
    "from common.interactive import initialize_widgets\n",
    "initialize_widgets()"
   ]
  },
  {
   "cell_type": "markdown",
   "metadata": {},
   "source": [
    "\n",
    "### <a href=\"https://thermohub.org/\" target=\"_blank\">ThermoHub</a> Copyright © 2018-2019 ThermoMod Team <a href=\"https://www.psi.ch/en/les\" target=\"_blank\"><img style=\"float: center; height: 6%; width: 6%;\" src=\"common/psi-logo.png\"></a>"
   ]
  }
 ],
 "metadata": {
  "kernelspec": {
   "display_name": "Python 3",
   "language": "python",
   "name": "python3"
  },
  "language_info": {
   "codemirror_mode": {
    "name": "ipython",
    "version": 3
   },
   "file_extension": ".py",
   "mimetype": "text/x-python",
   "name": "python",
   "nbconvert_exporter": "python",
   "pygments_lexer": "ipython3",
   "version": "3.6.8"
  }
 },
 "nbformat": 4,
 "nbformat_minor": 2
}
